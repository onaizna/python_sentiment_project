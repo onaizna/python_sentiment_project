{
 "cells": [
  {
   "cell_type": "markdown",
   "metadata": {},
   "source": [
    "# Exploring Datasets"
   ]
  },
  {
   "cell_type": "markdown",
   "metadata": {},
   "source": [
    "## [1] importing libraries"
   ]
  },
  {
   "cell_type": "code",
   "execution_count": 1,
   "metadata": {},
   "outputs": [],
   "source": [
    "import pandas as pd\n",
    "import matplotlib.pyplot as plt\n",
    "import seaborn as sns"
   ]
  },
  {
   "cell_type": "markdown",
   "metadata": {},
   "source": [
    "## [2] loading datasets and creating dataframes"
   ]
  },
  {
   "cell_type": "code",
   "execution_count": 2,
   "metadata": {},
   "outputs": [],
   "source": [
    "df_ED_sentiment_1 = pd.read_excel('..\\\\data\\\\raw\\\\earth_day_tweets_sentiment_50k_(1).xlsx')\n",
    "df_ED_sentiment_2 = pd.read_excel('..\\\\data\\\\raw\\\\earth_day_tweets_sentiment_50k_(2).xlsx')\n",
    "df_fifa = pd.read_excel('..\\\\data\\\\raw\\\\fifa_world_cup_2022_tweets_sentiment_22k.xlsx')\n",
    "df_generic = pd.read_excel('..\\\\data\\\\raw\\\\generic_27k.xlsx')"
   ]
  },
  {
   "cell_type": "markdown",
   "metadata": {},
   "source": [
    "## [3] showing first rows of each dataframe"
   ]
  },
  {
   "cell_type": "code",
   "execution_count": 3,
   "metadata": {},
   "outputs": [
    {
     "data": {
      "text/html": [
       "<div>\n",
       "<style scoped>\n",
       "    .dataframe tbody tr th:only-of-type {\n",
       "        vertical-align: middle;\n",
       "    }\n",
       "\n",
       "    .dataframe tbody tr th {\n",
       "        vertical-align: top;\n",
       "    }\n",
       "\n",
       "    .dataframe thead th {\n",
       "        text-align: right;\n",
       "    }\n",
       "</style>\n",
       "<table border=\"1\" class=\"dataframe\">\n",
       "  <thead>\n",
       "    <tr style=\"text-align: right;\">\n",
       "      <th></th>\n",
       "      <th>text</th>\n",
       "      <th>hash_tags</th>\n",
       "      <th>account_tags</th>\n",
       "      <th>sentiment</th>\n",
       "      <th>emotion</th>\n",
       "    </tr>\n",
       "  </thead>\n",
       "  <tbody>\n",
       "    <tr>\n",
       "      <th>0</th>\n",
       "      <td>RT @POTUS: As we celebrate the progress we’ve ...</td>\n",
       "      <td>NaN</td>\n",
       "      <td>POTUS</td>\n",
       "      <td>POSITIVE</td>\n",
       "      <td>optimism</td>\n",
       "    </tr>\n",
       "    <tr>\n",
       "      <th>1</th>\n",
       "      <td>This #EarthDay, I'm happy to be meeting with P...</td>\n",
       "      <td>EarthDay,GetTheLeadOut</td>\n",
       "      <td>PennEnvironment</td>\n",
       "      <td>POSITIVE</td>\n",
       "      <td>optimism</td>\n",
       "    </tr>\n",
       "    <tr>\n",
       "      <th>2</th>\n",
       "      <td>RT @Khan__sir_patna: All of people wishes and ...</td>\n",
       "      <td>EarthDay</td>\n",
       "      <td>Khan__sir_patna</td>\n",
       "      <td>POSITIVE</td>\n",
       "      <td>joy</td>\n",
       "    </tr>\n",
       "    <tr>\n",
       "      <th>3</th>\n",
       "      <td>RT @CapsCoalition: Biden Signs Executive Order...</td>\n",
       "      <td>EarthDay</td>\n",
       "      <td>CapsCoalition</td>\n",
       "      <td>POSITIVE</td>\n",
       "      <td>optimism</td>\n",
       "    </tr>\n",
       "    <tr>\n",
       "      <th>4</th>\n",
       "      <td>RT @tamannaahspeaks: Animals source their food...</td>\n",
       "      <td>MyconnectwithSoil</td>\n",
       "      <td>tamannaahspeaks,SadhguruJV,cpsavesoil</td>\n",
       "      <td>POSITIVE</td>\n",
       "      <td>optimism</td>\n",
       "    </tr>\n",
       "    <tr>\n",
       "      <th>5</th>\n",
       "      <td>RT @Snoopy: Today is Earth Day! How will you c...</td>\n",
       "      <td>TakeCareWithSnoopy,TakeCareOfTheEarth</td>\n",
       "      <td>Snoopy</td>\n",
       "      <td>NEGATIVE</td>\n",
       "      <td>optimism</td>\n",
       "    </tr>\n",
       "    <tr>\n",
       "      <th>6</th>\n",
       "      <td>RT @mfnerc: Earth Day, celebrated on April 22,...</td>\n",
       "      <td>EarthDay</td>\n",
       "      <td>mfnerc</td>\n",
       "      <td>POSITIVE</td>\n",
       "      <td>optimism</td>\n",
       "    </tr>\n",
       "    <tr>\n",
       "      <th>7</th>\n",
       "      <td>feliz earth day #unlitter</td>\n",
       "      <td>unlitter</td>\n",
       "      <td>NaN</td>\n",
       "      <td>NEGATIVE</td>\n",
       "      <td>joy</td>\n",
       "    </tr>\n",
       "    <tr>\n",
       "      <th>8</th>\n",
       "      <td>Fight for cleaner air and protect vulnerable c...</td>\n",
       "      <td>CleanerTrucks,EarthDay</td>\n",
       "      <td>CRAdvocacy</td>\n",
       "      <td>NEGATIVE</td>\n",
       "      <td>optimism</td>\n",
       "    </tr>\n",
       "    <tr>\n",
       "      <th>9</th>\n",
       "      <td>RT @StrikePac: Democrats Deliver on the Enviro...</td>\n",
       "      <td>NaN</td>\n",
       "      <td>StrikePac</td>\n",
       "      <td>NEGATIVE</td>\n",
       "      <td>optimism</td>\n",
       "    </tr>\n",
       "  </tbody>\n",
       "</table>\n",
       "</div>"
      ],
      "text/plain": [
       "                                                text  \\\n",
       "0  RT @POTUS: As we celebrate the progress we’ve ...   \n",
       "1  This #EarthDay, I'm happy to be meeting with P...   \n",
       "2  RT @Khan__sir_patna: All of people wishes and ...   \n",
       "3  RT @CapsCoalition: Biden Signs Executive Order...   \n",
       "4  RT @tamannaahspeaks: Animals source their food...   \n",
       "5  RT @Snoopy: Today is Earth Day! How will you c...   \n",
       "6  RT @mfnerc: Earth Day, celebrated on April 22,...   \n",
       "7                          feliz earth day #unlitter   \n",
       "8  Fight for cleaner air and protect vulnerable c...   \n",
       "9  RT @StrikePac: Democrats Deliver on the Enviro...   \n",
       "\n",
       "                               hash_tags  \\\n",
       "0                                    NaN   \n",
       "1                 EarthDay,GetTheLeadOut   \n",
       "2                               EarthDay   \n",
       "3                               EarthDay   \n",
       "4                      MyconnectwithSoil   \n",
       "5  TakeCareWithSnoopy,TakeCareOfTheEarth   \n",
       "6                               EarthDay   \n",
       "7                               unlitter   \n",
       "8                 CleanerTrucks,EarthDay   \n",
       "9                                    NaN   \n",
       "\n",
       "                            account_tags sentiment   emotion  \n",
       "0                                  POTUS  POSITIVE  optimism  \n",
       "1                        PennEnvironment  POSITIVE  optimism  \n",
       "2                        Khan__sir_patna  POSITIVE       joy  \n",
       "3                          CapsCoalition  POSITIVE  optimism  \n",
       "4  tamannaahspeaks,SadhguruJV,cpsavesoil  POSITIVE  optimism  \n",
       "5                                 Snoopy  NEGATIVE  optimism  \n",
       "6                                 mfnerc  POSITIVE  optimism  \n",
       "7                                    NaN  NEGATIVE       joy  \n",
       "8                             CRAdvocacy  NEGATIVE  optimism  \n",
       "9                              StrikePac  NEGATIVE  optimism  "
      ]
     },
     "execution_count": 3,
     "metadata": {},
     "output_type": "execute_result"
    }
   ],
   "source": [
    "df_ED_sentiment_1.head(10)"
   ]
  },
  {
   "cell_type": "code",
   "execution_count": 4,
   "metadata": {},
   "outputs": [
    {
     "data": {
      "text/html": [
       "<div>\n",
       "<style scoped>\n",
       "    .dataframe tbody tr th:only-of-type {\n",
       "        vertical-align: middle;\n",
       "    }\n",
       "\n",
       "    .dataframe tbody tr th {\n",
       "        vertical-align: top;\n",
       "    }\n",
       "\n",
       "    .dataframe thead th {\n",
       "        text-align: right;\n",
       "    }\n",
       "</style>\n",
       "<table border=\"1\" class=\"dataframe\">\n",
       "  <thead>\n",
       "    <tr style=\"text-align: right;\">\n",
       "      <th></th>\n",
       "      <th>text</th>\n",
       "      <th>hash_tags</th>\n",
       "      <th>account_tags</th>\n",
       "      <th>sentiment</th>\n",
       "      <th>emotion</th>\n",
       "    </tr>\n",
       "  </thead>\n",
       "  <tbody>\n",
       "    <tr>\n",
       "      <th>0</th>\n",
       "      <td>RT @Amyk_Essentials: Happy Earth Day 🌎\\nTreat ...</td>\n",
       "      <td>NaN</td>\n",
       "      <td>Amyk_Essentials</td>\n",
       "      <td>POSITIVE</td>\n",
       "      <td>joy</td>\n",
       "    </tr>\n",
       "    <tr>\n",
       "      <th>1</th>\n",
       "      <td>RT @WUTangKids: Make Earth Day Every Day!  htt...</td>\n",
       "      <td>NaN</td>\n",
       "      <td>WUTangKids</td>\n",
       "      <td>NEGATIVE</td>\n",
       "      <td>joy</td>\n",
       "    </tr>\n",
       "    <tr>\n",
       "      <th>2</th>\n",
       "      <td>Earth Day, every day. \\n#EarthDay2022 🌍 https:...</td>\n",
       "      <td>EarthDay2022</td>\n",
       "      <td>NaN</td>\n",
       "      <td>NEGATIVE</td>\n",
       "      <td>joy</td>\n",
       "    </tr>\n",
       "    <tr>\n",
       "      <th>3</th>\n",
       "      <td>RT @wbcsd: On #EarthDay, @wbcsd proudly announ...</td>\n",
       "      <td>EarthDay</td>\n",
       "      <td>wbcsd,wbcsd,UPLLtd,Chevron</td>\n",
       "      <td>POSITIVE</td>\n",
       "      <td>optimism</td>\n",
       "    </tr>\n",
       "    <tr>\n",
       "      <th>4</th>\n",
       "      <td>RT @lihosny: I’m fighting for a greener, healt...</td>\n",
       "      <td>EarthDay,MakeOntarioGreen</td>\n",
       "      <td>lihosny</td>\n",
       "      <td>POSITIVE</td>\n",
       "      <td>optimism</td>\n",
       "    </tr>\n",
       "    <tr>\n",
       "      <th>5</th>\n",
       "      <td>@ACOC Happy #EarthDay from the team at Lucid P...</td>\n",
       "      <td>EarthDay</td>\n",
       "      <td>ACOC</td>\n",
       "      <td>POSITIVE</td>\n",
       "      <td>joy</td>\n",
       "    </tr>\n",
       "    <tr>\n",
       "      <th>6</th>\n",
       "      <td>Make this Earth Day different - Greenpeace htt...</td>\n",
       "      <td>NaN</td>\n",
       "      <td>NaN</td>\n",
       "      <td>POSITIVE</td>\n",
       "      <td>optimism</td>\n",
       "    </tr>\n",
       "    <tr>\n",
       "      <th>7</th>\n",
       "      <td>RT @AuxGod_: Happy Earth Day 🌎 #EarthDay2022 h...</td>\n",
       "      <td>EarthDay2022</td>\n",
       "      <td>AuxGod_</td>\n",
       "      <td>POSITIVE</td>\n",
       "      <td>joy</td>\n",
       "    </tr>\n",
       "    <tr>\n",
       "      <th>8</th>\n",
       "      <td>HAPPY EARTH DAY!!!!!</td>\n",
       "      <td>NaN</td>\n",
       "      <td>NaN</td>\n",
       "      <td>POSITIVE</td>\n",
       "      <td>joy</td>\n",
       "    </tr>\n",
       "    <tr>\n",
       "      <th>9</th>\n",
       "      <td>RT @erinbiba: Happy Earth Day! https://t.co/Eo...</td>\n",
       "      <td>NaN</td>\n",
       "      <td>erinbiba</td>\n",
       "      <td>POSITIVE</td>\n",
       "      <td>joy</td>\n",
       "    </tr>\n",
       "  </tbody>\n",
       "</table>\n",
       "</div>"
      ],
      "text/plain": [
       "                                                text  \\\n",
       "0  RT @Amyk_Essentials: Happy Earth Day 🌎\\nTreat ...   \n",
       "1  RT @WUTangKids: Make Earth Day Every Day!  htt...   \n",
       "2  Earth Day, every day. \\n#EarthDay2022 🌍 https:...   \n",
       "3  RT @wbcsd: On #EarthDay, @wbcsd proudly announ...   \n",
       "4  RT @lihosny: I’m fighting for a greener, healt...   \n",
       "5  @ACOC Happy #EarthDay from the team at Lucid P...   \n",
       "6  Make this Earth Day different - Greenpeace htt...   \n",
       "7  RT @AuxGod_: Happy Earth Day 🌎 #EarthDay2022 h...   \n",
       "8                               HAPPY EARTH DAY!!!!!   \n",
       "9  RT @erinbiba: Happy Earth Day! https://t.co/Eo...   \n",
       "\n",
       "                   hash_tags                account_tags sentiment   emotion  \n",
       "0                        NaN             Amyk_Essentials  POSITIVE       joy  \n",
       "1                        NaN                  WUTangKids  NEGATIVE       joy  \n",
       "2               EarthDay2022                         NaN  NEGATIVE       joy  \n",
       "3                   EarthDay  wbcsd,wbcsd,UPLLtd,Chevron  POSITIVE  optimism  \n",
       "4  EarthDay,MakeOntarioGreen                     lihosny  POSITIVE  optimism  \n",
       "5                   EarthDay                        ACOC  POSITIVE       joy  \n",
       "6                        NaN                         NaN  POSITIVE  optimism  \n",
       "7               EarthDay2022                     AuxGod_  POSITIVE       joy  \n",
       "8                        NaN                         NaN  POSITIVE       joy  \n",
       "9                        NaN                    erinbiba  POSITIVE       joy  "
      ]
     },
     "execution_count": 4,
     "metadata": {},
     "output_type": "execute_result"
    }
   ],
   "source": [
    "df_ED_sentiment_2.head(10)"
   ]
  },
  {
   "cell_type": "markdown",
   "metadata": {},
   "source": [
    "we notice that the first two dataframes have the same variables "
   ]
  },
  {
   "cell_type": "code",
   "execution_count": 5,
   "metadata": {},
   "outputs": [
    {
     "data": {
      "text/html": [
       "<div>\n",
       "<style scoped>\n",
       "    .dataframe tbody tr th:only-of-type {\n",
       "        vertical-align: middle;\n",
       "    }\n",
       "\n",
       "    .dataframe tbody tr th {\n",
       "        vertical-align: top;\n",
       "    }\n",
       "\n",
       "    .dataframe thead th {\n",
       "        text-align: right;\n",
       "    }\n",
       "</style>\n",
       "<table border=\"1\" class=\"dataframe\">\n",
       "  <thead>\n",
       "    <tr style=\"text-align: right;\">\n",
       "      <th></th>\n",
       "      <th>Unnamed: 0</th>\n",
       "      <th>Date Created</th>\n",
       "      <th>Number of Likes</th>\n",
       "      <th>Source of Tweet</th>\n",
       "      <th>Tweet</th>\n",
       "      <th>Sentiment</th>\n",
       "    </tr>\n",
       "  </thead>\n",
       "  <tbody>\n",
       "    <tr>\n",
       "      <th>0</th>\n",
       "      <td>0</td>\n",
       "      <td>2022-11-20 23:59:21+00:00</td>\n",
       "      <td>4</td>\n",
       "      <td>Twitter Web App</td>\n",
       "      <td>What are we drinking today @TucanTribe \\n@MadB...</td>\n",
       "      <td>neutral</td>\n",
       "    </tr>\n",
       "    <tr>\n",
       "      <th>1</th>\n",
       "      <td>1</td>\n",
       "      <td>2022-11-20 23:59:01+00:00</td>\n",
       "      <td>3</td>\n",
       "      <td>Twitter for iPhone</td>\n",
       "      <td>Amazing @CanadaSoccerEN  #WorldCup2022 launch ...</td>\n",
       "      <td>positive</td>\n",
       "    </tr>\n",
       "    <tr>\n",
       "      <th>2</th>\n",
       "      <td>2</td>\n",
       "      <td>2022-11-20 23:58:41+00:00</td>\n",
       "      <td>1</td>\n",
       "      <td>Twitter for iPhone</td>\n",
       "      <td>Worth reading while watching #WorldCup2022 htt...</td>\n",
       "      <td>positive</td>\n",
       "    </tr>\n",
       "    <tr>\n",
       "      <th>3</th>\n",
       "      <td>3</td>\n",
       "      <td>2022-11-20 23:58:33+00:00</td>\n",
       "      <td>1</td>\n",
       "      <td>Twitter Web App</td>\n",
       "      <td>Golden Maknae shinning bright\\n\\nhttps://t.co/...</td>\n",
       "      <td>positive</td>\n",
       "    </tr>\n",
       "    <tr>\n",
       "      <th>4</th>\n",
       "      <td>4</td>\n",
       "      <td>2022-11-20 23:58:28+00:00</td>\n",
       "      <td>0</td>\n",
       "      <td>Twitter for Android</td>\n",
       "      <td>If the BBC cares so much about human rights, h...</td>\n",
       "      <td>negative</td>\n",
       "    </tr>\n",
       "    <tr>\n",
       "      <th>5</th>\n",
       "      <td>5</td>\n",
       "      <td>2022-11-20 23:57:32+00:00</td>\n",
       "      <td>0</td>\n",
       "      <td>Twitter for Android</td>\n",
       "      <td>And like, will the mexican fans be able to scr...</td>\n",
       "      <td>negative</td>\n",
       "    </tr>\n",
       "    <tr>\n",
       "      <th>6</th>\n",
       "      <td>6</td>\n",
       "      <td>2022-11-20 23:57:06+00:00</td>\n",
       "      <td>0</td>\n",
       "      <td>Twitter for Android</td>\n",
       "      <td>Look like a only me and the Jamaican football ...</td>\n",
       "      <td>neutral</td>\n",
       "    </tr>\n",
       "    <tr>\n",
       "      <th>7</th>\n",
       "      <td>7</td>\n",
       "      <td>2022-11-20 23:57:05+00:00</td>\n",
       "      <td>0</td>\n",
       "      <td>Twitter for Android</td>\n",
       "      <td>Really? Football on a Monday morning at 9 and ...</td>\n",
       "      <td>negative</td>\n",
       "    </tr>\n",
       "    <tr>\n",
       "      <th>8</th>\n",
       "      <td>8</td>\n",
       "      <td>2022-11-20 23:56:10+00:00</td>\n",
       "      <td>1</td>\n",
       "      <td>Twitter for iPhone</td>\n",
       "      <td>As the World Cup starts in Qatar, it’s Black A...</td>\n",
       "      <td>positive</td>\n",
       "    </tr>\n",
       "    <tr>\n",
       "      <th>9</th>\n",
       "      <td>9</td>\n",
       "      <td>2022-11-20 23:56:08+00:00</td>\n",
       "      <td>0</td>\n",
       "      <td>Twitter for iPhone</td>\n",
       "      <td>#WorldCup2022 @ITVSport &amp;amp; @LFSYSTEMMUSIC g...</td>\n",
       "      <td>positive</td>\n",
       "    </tr>\n",
       "  </tbody>\n",
       "</table>\n",
       "</div>"
      ],
      "text/plain": [
       "   Unnamed: 0               Date Created  Number of Likes  \\\n",
       "0           0  2022-11-20 23:59:21+00:00                4   \n",
       "1           1  2022-11-20 23:59:01+00:00                3   \n",
       "2           2  2022-11-20 23:58:41+00:00                1   \n",
       "3           3  2022-11-20 23:58:33+00:00                1   \n",
       "4           4  2022-11-20 23:58:28+00:00                0   \n",
       "5           5  2022-11-20 23:57:32+00:00                0   \n",
       "6           6  2022-11-20 23:57:06+00:00                0   \n",
       "7           7  2022-11-20 23:57:05+00:00                0   \n",
       "8           8  2022-11-20 23:56:10+00:00                1   \n",
       "9           9  2022-11-20 23:56:08+00:00                0   \n",
       "\n",
       "       Source of Tweet                                              Tweet  \\\n",
       "0      Twitter Web App  What are we drinking today @TucanTribe \\n@MadB...   \n",
       "1   Twitter for iPhone  Amazing @CanadaSoccerEN  #WorldCup2022 launch ...   \n",
       "2   Twitter for iPhone  Worth reading while watching #WorldCup2022 htt...   \n",
       "3      Twitter Web App  Golden Maknae shinning bright\\n\\nhttps://t.co/...   \n",
       "4  Twitter for Android  If the BBC cares so much about human rights, h...   \n",
       "5  Twitter for Android  And like, will the mexican fans be able to scr...   \n",
       "6  Twitter for Android  Look like a only me and the Jamaican football ...   \n",
       "7  Twitter for Android  Really? Football on a Monday morning at 9 and ...   \n",
       "8   Twitter for iPhone  As the World Cup starts in Qatar, it’s Black A...   \n",
       "9   Twitter for iPhone  #WorldCup2022 @ITVSport &amp; @LFSYSTEMMUSIC g...   \n",
       "\n",
       "  Sentiment  \n",
       "0   neutral  \n",
       "1  positive  \n",
       "2  positive  \n",
       "3  positive  \n",
       "4  negative  \n",
       "5  negative  \n",
       "6   neutral  \n",
       "7  negative  \n",
       "8  positive  \n",
       "9  positive  "
      ]
     },
     "execution_count": 5,
     "metadata": {},
     "output_type": "execute_result"
    }
   ],
   "source": [
    "df_fifa.head(10)"
   ]
  },
  {
   "cell_type": "markdown",
   "metadata": {},
   "source": [
    "we see that the third dataframe got an index variable (we don't need to keep that in pandas)"
   ]
  },
  {
   "cell_type": "code",
   "execution_count": 6,
   "metadata": {},
   "outputs": [
    {
     "data": {
      "text/html": [
       "<div>\n",
       "<style scoped>\n",
       "    .dataframe tbody tr th:only-of-type {\n",
       "        vertical-align: middle;\n",
       "    }\n",
       "\n",
       "    .dataframe tbody tr th {\n",
       "        vertical-align: top;\n",
       "    }\n",
       "\n",
       "    .dataframe thead th {\n",
       "        text-align: right;\n",
       "    }\n",
       "</style>\n",
       "<table border=\"1\" class=\"dataframe\">\n",
       "  <thead>\n",
       "    <tr style=\"text-align: right;\">\n",
       "      <th></th>\n",
       "      <th>date_created</th>\n",
       "      <th>number_of_likes</th>\n",
       "      <th>source_of_tweet</th>\n",
       "      <th>tweet</th>\n",
       "      <th>sentiment</th>\n",
       "    </tr>\n",
       "  </thead>\n",
       "  <tbody>\n",
       "    <tr>\n",
       "      <th>0</th>\n",
       "      <td>2022-11-20 23:59:21+00:00</td>\n",
       "      <td>4</td>\n",
       "      <td>Twitter Web App</td>\n",
       "      <td>What are we drinking today @TucanTribe \\n@MadB...</td>\n",
       "      <td>neutral</td>\n",
       "    </tr>\n",
       "    <tr>\n",
       "      <th>1</th>\n",
       "      <td>2022-11-20 23:59:01+00:00</td>\n",
       "      <td>3</td>\n",
       "      <td>Twitter for iPhone</td>\n",
       "      <td>Amazing @CanadaSoccerEN  #WorldCup2022 launch ...</td>\n",
       "      <td>positive</td>\n",
       "    </tr>\n",
       "    <tr>\n",
       "      <th>2</th>\n",
       "      <td>2022-11-20 23:58:41+00:00</td>\n",
       "      <td>1</td>\n",
       "      <td>Twitter for iPhone</td>\n",
       "      <td>Worth reading while watching #WorldCup2022 htt...</td>\n",
       "      <td>positive</td>\n",
       "    </tr>\n",
       "    <tr>\n",
       "      <th>3</th>\n",
       "      <td>2022-11-20 23:58:33+00:00</td>\n",
       "      <td>1</td>\n",
       "      <td>Twitter Web App</td>\n",
       "      <td>Golden Maknae shinning bright\\n\\nhttps://t.co/...</td>\n",
       "      <td>positive</td>\n",
       "    </tr>\n",
       "    <tr>\n",
       "      <th>4</th>\n",
       "      <td>2022-11-20 23:58:28+00:00</td>\n",
       "      <td>0</td>\n",
       "      <td>Twitter for Android</td>\n",
       "      <td>If the BBC cares so much about human rights, h...</td>\n",
       "      <td>negative</td>\n",
       "    </tr>\n",
       "    <tr>\n",
       "      <th>5</th>\n",
       "      <td>2022-11-20 23:57:32+00:00</td>\n",
       "      <td>0</td>\n",
       "      <td>Twitter for Android</td>\n",
       "      <td>And like, will the mexican fans be able to scr...</td>\n",
       "      <td>negative</td>\n",
       "    </tr>\n",
       "    <tr>\n",
       "      <th>6</th>\n",
       "      <td>2022-11-20 23:57:06+00:00</td>\n",
       "      <td>0</td>\n",
       "      <td>Twitter for Android</td>\n",
       "      <td>Look like a only me and the Jamaican football ...</td>\n",
       "      <td>neutral</td>\n",
       "    </tr>\n",
       "    <tr>\n",
       "      <th>7</th>\n",
       "      <td>2022-11-20 23:57:05+00:00</td>\n",
       "      <td>0</td>\n",
       "      <td>Twitter for Android</td>\n",
       "      <td>Really? Football on a Monday morning at 9 and ...</td>\n",
       "      <td>negative</td>\n",
       "    </tr>\n",
       "    <tr>\n",
       "      <th>8</th>\n",
       "      <td>2022-11-20 23:56:10+00:00</td>\n",
       "      <td>1</td>\n",
       "      <td>Twitter for iPhone</td>\n",
       "      <td>As the World Cup starts in Qatar, it’s Black A...</td>\n",
       "      <td>positive</td>\n",
       "    </tr>\n",
       "    <tr>\n",
       "      <th>9</th>\n",
       "      <td>2022-11-20 23:56:08+00:00</td>\n",
       "      <td>0</td>\n",
       "      <td>Twitter for iPhone</td>\n",
       "      <td>#WorldCup2022 @ITVSport &amp;amp; @LFSYSTEMMUSIC g...</td>\n",
       "      <td>positive</td>\n",
       "    </tr>\n",
       "  </tbody>\n",
       "</table>\n",
       "</div>"
      ],
      "text/plain": [
       "                date_created  number_of_likes      source_of_tweet  \\\n",
       "0  2022-11-20 23:59:21+00:00                4      Twitter Web App   \n",
       "1  2022-11-20 23:59:01+00:00                3   Twitter for iPhone   \n",
       "2  2022-11-20 23:58:41+00:00                1   Twitter for iPhone   \n",
       "3  2022-11-20 23:58:33+00:00                1      Twitter Web App   \n",
       "4  2022-11-20 23:58:28+00:00                0  Twitter for Android   \n",
       "5  2022-11-20 23:57:32+00:00                0  Twitter for Android   \n",
       "6  2022-11-20 23:57:06+00:00                0  Twitter for Android   \n",
       "7  2022-11-20 23:57:05+00:00                0  Twitter for Android   \n",
       "8  2022-11-20 23:56:10+00:00                1   Twitter for iPhone   \n",
       "9  2022-11-20 23:56:08+00:00                0   Twitter for iPhone   \n",
       "\n",
       "                                               tweet sentiment  \n",
       "0  What are we drinking today @TucanTribe \\n@MadB...   neutral  \n",
       "1  Amazing @CanadaSoccerEN  #WorldCup2022 launch ...  positive  \n",
       "2  Worth reading while watching #WorldCup2022 htt...  positive  \n",
       "3  Golden Maknae shinning bright\\n\\nhttps://t.co/...  positive  \n",
       "4  If the BBC cares so much about human rights, h...  negative  \n",
       "5  And like, will the mexican fans be able to scr...  negative  \n",
       "6  Look like a only me and the Jamaican football ...   neutral  \n",
       "7  Really? Football on a Monday morning at 9 and ...  negative  \n",
       "8  As the World Cup starts in Qatar, it’s Black A...  positive  \n",
       "9  #WorldCup2022 @ITVSport &amp; @LFSYSTEMMUSIC g...  positive  "
      ]
     },
     "execution_count": 6,
     "metadata": {},
     "output_type": "execute_result"
    }
   ],
   "source": [
    "df_fifa = df_fifa.drop(['Unnamed: 0'], axis=1)\n",
    "#adjusting column names\n",
    "df_fifa.columns = ['date_created', 'number_of_likes', 'source_of_tweet', 'tweet', 'sentiment']\n",
    "df_fifa.head(10)"
   ]
  },
  {
   "cell_type": "code",
   "execution_count": 7,
   "metadata": {},
   "outputs": [],
   "source": [
    "df_generic.head(10)\n",
    "#adjusting column names\n",
    "df_generic.columns = ['text_id', 'text', 'sentiment']"
   ]
  },
  {
   "cell_type": "markdown",
   "metadata": {},
   "source": [
    "## [4] showing simple statistics of each dataframe (and checking variables types)"
   ]
  },
  {
   "cell_type": "code",
   "execution_count": 8,
   "metadata": {},
   "outputs": [
    {
     "data": {
      "text/html": [
       "<div>\n",
       "<style scoped>\n",
       "    .dataframe tbody tr th:only-of-type {\n",
       "        vertical-align: middle;\n",
       "    }\n",
       "\n",
       "    .dataframe tbody tr th {\n",
       "        vertical-align: top;\n",
       "    }\n",
       "\n",
       "    .dataframe thead th {\n",
       "        text-align: right;\n",
       "    }\n",
       "</style>\n",
       "<table border=\"1\" class=\"dataframe\">\n",
       "  <thead>\n",
       "    <tr style=\"text-align: right;\">\n",
       "      <th></th>\n",
       "      <th>text</th>\n",
       "      <th>hash_tags</th>\n",
       "      <th>account_tags</th>\n",
       "      <th>sentiment</th>\n",
       "      <th>emotion</th>\n",
       "    </tr>\n",
       "  </thead>\n",
       "  <tbody>\n",
       "    <tr>\n",
       "      <th>count</th>\n",
       "      <td>49999</td>\n",
       "      <td>33612</td>\n",
       "      <td>38273</td>\n",
       "      <td>49999</td>\n",
       "      <td>49999</td>\n",
       "    </tr>\n",
       "    <tr>\n",
       "      <th>unique</th>\n",
       "      <td>27009</td>\n",
       "      <td>8566</td>\n",
       "      <td>13643</td>\n",
       "      <td>2</td>\n",
       "      <td>4</td>\n",
       "    </tr>\n",
       "    <tr>\n",
       "      <th>top</th>\n",
       "      <td>RT @Snoopy: Today is Earth Day! How will you c...</td>\n",
       "      <td>EarthDay</td>\n",
       "      <td>cpsavesoil</td>\n",
       "      <td>POSITIVE</td>\n",
       "      <td>joy</td>\n",
       "    </tr>\n",
       "    <tr>\n",
       "      <th>freq</th>\n",
       "      <td>465</td>\n",
       "      <td>9886</td>\n",
       "      <td>2037</td>\n",
       "      <td>33235</td>\n",
       "      <td>27278</td>\n",
       "    </tr>\n",
       "  </tbody>\n",
       "</table>\n",
       "</div>"
      ],
      "text/plain": [
       "                                                     text hash_tags  \\\n",
       "count                                               49999     33612   \n",
       "unique                                              27009      8566   \n",
       "top     RT @Snoopy: Today is Earth Day! How will you c...  EarthDay   \n",
       "freq                                                  465      9886   \n",
       "\n",
       "       account_tags sentiment emotion  \n",
       "count         38273     49999   49999  \n",
       "unique        13643         2       4  \n",
       "top      cpsavesoil  POSITIVE     joy  \n",
       "freq           2037     33235   27278  "
      ]
     },
     "execution_count": 8,
     "metadata": {},
     "output_type": "execute_result"
    }
   ],
   "source": [
    "df_ED_sentiment_1.describe()"
   ]
  },
  {
   "cell_type": "code",
   "execution_count": 9,
   "metadata": {},
   "outputs": [
    {
     "name": "stdout",
     "output_type": "stream",
     "text": [
      "<class 'pandas.core.frame.DataFrame'>\n",
      "RangeIndex: 49999 entries, 0 to 49998\n",
      "Data columns (total 5 columns):\n",
      " #   Column        Non-Null Count  Dtype \n",
      "---  ------        --------------  ----- \n",
      " 0   text          49999 non-null  object\n",
      " 1   hash_tags     33612 non-null  object\n",
      " 2   account_tags  38273 non-null  object\n",
      " 3   sentiment     49999 non-null  object\n",
      " 4   emotion       49999 non-null  object\n",
      "dtypes: object(5)\n",
      "memory usage: 1.9+ MB\n"
     ]
    }
   ],
   "source": [
    "df_ED_sentiment_1.info()"
   ]
  },
  {
   "cell_type": "code",
   "execution_count": 10,
   "metadata": {},
   "outputs": [
    {
     "data": {
      "text/html": [
       "<div>\n",
       "<style scoped>\n",
       "    .dataframe tbody tr th:only-of-type {\n",
       "        vertical-align: middle;\n",
       "    }\n",
       "\n",
       "    .dataframe tbody tr th {\n",
       "        vertical-align: top;\n",
       "    }\n",
       "\n",
       "    .dataframe thead th {\n",
       "        text-align: right;\n",
       "    }\n",
       "</style>\n",
       "<table border=\"1\" class=\"dataframe\">\n",
       "  <thead>\n",
       "    <tr style=\"text-align: right;\">\n",
       "      <th></th>\n",
       "      <th>text</th>\n",
       "      <th>hash_tags</th>\n",
       "      <th>account_tags</th>\n",
       "      <th>sentiment</th>\n",
       "      <th>emotion</th>\n",
       "    </tr>\n",
       "  </thead>\n",
       "  <tbody>\n",
       "    <tr>\n",
       "      <th>count</th>\n",
       "      <td>50100</td>\n",
       "      <td>29331</td>\n",
       "      <td>38679</td>\n",
       "      <td>50100</td>\n",
       "      <td>50100</td>\n",
       "    </tr>\n",
       "    <tr>\n",
       "      <th>unique</th>\n",
       "      <td>26185</td>\n",
       "      <td>8233</td>\n",
       "      <td>13209</td>\n",
       "      <td>2</td>\n",
       "      <td>4</td>\n",
       "    </tr>\n",
       "    <tr>\n",
       "      <th>top</th>\n",
       "      <td>RT @BarackObama: When it comes to climate chan...</td>\n",
       "      <td>EarthDay</td>\n",
       "      <td>cpsavesoil</td>\n",
       "      <td>POSITIVE</td>\n",
       "      <td>joy</td>\n",
       "    </tr>\n",
       "    <tr>\n",
       "      <th>freq</th>\n",
       "      <td>655</td>\n",
       "      <td>9680</td>\n",
       "      <td>1224</td>\n",
       "      <td>32854</td>\n",
       "      <td>29031</td>\n",
       "    </tr>\n",
       "  </tbody>\n",
       "</table>\n",
       "</div>"
      ],
      "text/plain": [
       "                                                     text hash_tags  \\\n",
       "count                                               50100     29331   \n",
       "unique                                              26185      8233   \n",
       "top     RT @BarackObama: When it comes to climate chan...  EarthDay   \n",
       "freq                                                  655      9680   \n",
       "\n",
       "       account_tags sentiment emotion  \n",
       "count         38679     50100   50100  \n",
       "unique        13209         2       4  \n",
       "top      cpsavesoil  POSITIVE     joy  \n",
       "freq           1224     32854   29031  "
      ]
     },
     "execution_count": 10,
     "metadata": {},
     "output_type": "execute_result"
    }
   ],
   "source": [
    "df_ED_sentiment_2.describe()"
   ]
  },
  {
   "cell_type": "code",
   "execution_count": 11,
   "metadata": {},
   "outputs": [
    {
     "name": "stdout",
     "output_type": "stream",
     "text": [
      "<class 'pandas.core.frame.DataFrame'>\n",
      "RangeIndex: 50100 entries, 0 to 50099\n",
      "Data columns (total 5 columns):\n",
      " #   Column        Non-Null Count  Dtype \n",
      "---  ------        --------------  ----- \n",
      " 0   text          50100 non-null  object\n",
      " 1   hash_tags     29331 non-null  object\n",
      " 2   account_tags  38679 non-null  object\n",
      " 3   sentiment     50100 non-null  object\n",
      " 4   emotion       50100 non-null  object\n",
      "dtypes: object(5)\n",
      "memory usage: 1.9+ MB\n"
     ]
    }
   ],
   "source": [
    "df_ED_sentiment_2.info()"
   ]
  },
  {
   "cell_type": "code",
   "execution_count": 12,
   "metadata": {},
   "outputs": [
    {
     "data": {
      "text/html": [
       "<div>\n",
       "<style scoped>\n",
       "    .dataframe tbody tr th:only-of-type {\n",
       "        vertical-align: middle;\n",
       "    }\n",
       "\n",
       "    .dataframe tbody tr th {\n",
       "        vertical-align: top;\n",
       "    }\n",
       "\n",
       "    .dataframe thead th {\n",
       "        text-align: right;\n",
       "    }\n",
       "</style>\n",
       "<table border=\"1\" class=\"dataframe\">\n",
       "  <thead>\n",
       "    <tr style=\"text-align: right;\">\n",
       "      <th></th>\n",
       "      <th>date_created</th>\n",
       "      <th>number_of_likes</th>\n",
       "      <th>source_of_tweet</th>\n",
       "      <th>tweet</th>\n",
       "      <th>sentiment</th>\n",
       "    </tr>\n",
       "  </thead>\n",
       "  <tbody>\n",
       "    <tr>\n",
       "      <th>count</th>\n",
       "      <td>22524</td>\n",
       "      <td>22524.000000</td>\n",
       "      <td>22524</td>\n",
       "      <td>22524</td>\n",
       "      <td>22524</td>\n",
       "    </tr>\n",
       "    <tr>\n",
       "      <th>unique</th>\n",
       "      <td>14412</td>\n",
       "      <td>NaN</td>\n",
       "      <td>109</td>\n",
       "      <td>22360</td>\n",
       "      <td>3</td>\n",
       "    </tr>\n",
       "    <tr>\n",
       "      <th>top</th>\n",
       "      <td>2022-11-20 16:10:10+00:00</td>\n",
       "      <td>NaN</td>\n",
       "      <td>Twitter for iPhone</td>\n",
       "      <td>In 2013, the famous footballer, Cristiano Rona...</td>\n",
       "      <td>positive</td>\n",
       "    </tr>\n",
       "    <tr>\n",
       "      <th>freq</th>\n",
       "      <td>24</td>\n",
       "      <td>NaN</td>\n",
       "      <td>9507</td>\n",
       "      <td>7</td>\n",
       "      <td>8489</td>\n",
       "    </tr>\n",
       "    <tr>\n",
       "      <th>mean</th>\n",
       "      <td>NaN</td>\n",
       "      <td>23.822856</td>\n",
       "      <td>NaN</td>\n",
       "      <td>NaN</td>\n",
       "      <td>NaN</td>\n",
       "    </tr>\n",
       "    <tr>\n",
       "      <th>std</th>\n",
       "      <td>NaN</td>\n",
       "      <td>2128.018705</td>\n",
       "      <td>NaN</td>\n",
       "      <td>NaN</td>\n",
       "      <td>NaN</td>\n",
       "    </tr>\n",
       "    <tr>\n",
       "      <th>min</th>\n",
       "      <td>NaN</td>\n",
       "      <td>0.000000</td>\n",
       "      <td>NaN</td>\n",
       "      <td>NaN</td>\n",
       "      <td>NaN</td>\n",
       "    </tr>\n",
       "    <tr>\n",
       "      <th>25%</th>\n",
       "      <td>NaN</td>\n",
       "      <td>0.000000</td>\n",
       "      <td>NaN</td>\n",
       "      <td>NaN</td>\n",
       "      <td>NaN</td>\n",
       "    </tr>\n",
       "    <tr>\n",
       "      <th>50%</th>\n",
       "      <td>NaN</td>\n",
       "      <td>0.000000</td>\n",
       "      <td>NaN</td>\n",
       "      <td>NaN</td>\n",
       "      <td>NaN</td>\n",
       "    </tr>\n",
       "    <tr>\n",
       "      <th>75%</th>\n",
       "      <td>NaN</td>\n",
       "      <td>2.000000</td>\n",
       "      <td>NaN</td>\n",
       "      <td>NaN</td>\n",
       "      <td>NaN</td>\n",
       "    </tr>\n",
       "    <tr>\n",
       "      <th>max</th>\n",
       "      <td>NaN</td>\n",
       "      <td>316867.000000</td>\n",
       "      <td>NaN</td>\n",
       "      <td>NaN</td>\n",
       "      <td>NaN</td>\n",
       "    </tr>\n",
       "  </tbody>\n",
       "</table>\n",
       "</div>"
      ],
      "text/plain": [
       "                     date_created  number_of_likes     source_of_tweet  \\\n",
       "count                       22524     22524.000000               22524   \n",
       "unique                      14412              NaN                 109   \n",
       "top     2022-11-20 16:10:10+00:00              NaN  Twitter for iPhone   \n",
       "freq                           24              NaN                9507   \n",
       "mean                          NaN        23.822856                 NaN   \n",
       "std                           NaN      2128.018705                 NaN   \n",
       "min                           NaN         0.000000                 NaN   \n",
       "25%                           NaN         0.000000                 NaN   \n",
       "50%                           NaN         0.000000                 NaN   \n",
       "75%                           NaN         2.000000                 NaN   \n",
       "max                           NaN    316867.000000                 NaN   \n",
       "\n",
       "                                                    tweet sentiment  \n",
       "count                                               22524     22524  \n",
       "unique                                              22360         3  \n",
       "top     In 2013, the famous footballer, Cristiano Rona...  positive  \n",
       "freq                                                    7      8489  \n",
       "mean                                                  NaN       NaN  \n",
       "std                                                   NaN       NaN  \n",
       "min                                                   NaN       NaN  \n",
       "25%                                                   NaN       NaN  \n",
       "50%                                                   NaN       NaN  \n",
       "75%                                                   NaN       NaN  \n",
       "max                                                   NaN       NaN  "
      ]
     },
     "execution_count": 12,
     "metadata": {},
     "output_type": "execute_result"
    }
   ],
   "source": [
    "df_fifa.describe(include='all')"
   ]
  },
  {
   "cell_type": "code",
   "execution_count": 13,
   "metadata": {},
   "outputs": [
    {
     "name": "stdout",
     "output_type": "stream",
     "text": [
      "<class 'pandas.core.frame.DataFrame'>\n",
      "RangeIndex: 22524 entries, 0 to 22523\n",
      "Data columns (total 5 columns):\n",
      " #   Column           Non-Null Count  Dtype \n",
      "---  ------           --------------  ----- \n",
      " 0   date_created     22524 non-null  object\n",
      " 1   number_of_likes  22524 non-null  int64 \n",
      " 2   source_of_tweet  22524 non-null  object\n",
      " 3   tweet            22524 non-null  object\n",
      " 4   sentiment        22524 non-null  object\n",
      "dtypes: int64(1), object(4)\n",
      "memory usage: 880.0+ KB\n"
     ]
    }
   ],
   "source": [
    "df_fifa.info()"
   ]
  },
  {
   "cell_type": "code",
   "execution_count": 14,
   "metadata": {},
   "outputs": [
    {
     "data": {
      "text/html": [
       "<div>\n",
       "<style scoped>\n",
       "    .dataframe tbody tr th:only-of-type {\n",
       "        vertical-align: middle;\n",
       "    }\n",
       "\n",
       "    .dataframe tbody tr th {\n",
       "        vertical-align: top;\n",
       "    }\n",
       "\n",
       "    .dataframe thead th {\n",
       "        text-align: right;\n",
       "    }\n",
       "</style>\n",
       "<table border=\"1\" class=\"dataframe\">\n",
       "  <thead>\n",
       "    <tr style=\"text-align: right;\">\n",
       "      <th></th>\n",
       "      <th>text_id</th>\n",
       "      <th>text</th>\n",
       "      <th>sentiment</th>\n",
       "    </tr>\n",
       "  </thead>\n",
       "  <tbody>\n",
       "    <tr>\n",
       "      <th>count</th>\n",
       "      <td>27481</td>\n",
       "      <td>27480</td>\n",
       "      <td>27481</td>\n",
       "    </tr>\n",
       "    <tr>\n",
       "      <th>unique</th>\n",
       "      <td>27481</td>\n",
       "      <td>27476</td>\n",
       "      <td>3</td>\n",
       "    </tr>\n",
       "    <tr>\n",
       "      <th>top</th>\n",
       "      <td>6f7127d9d7</td>\n",
       "      <td>Thx 4 sharing!</td>\n",
       "      <td>neutral</td>\n",
       "    </tr>\n",
       "    <tr>\n",
       "      <th>freq</th>\n",
       "      <td>1</td>\n",
       "      <td>2</td>\n",
       "      <td>11118</td>\n",
       "    </tr>\n",
       "  </tbody>\n",
       "</table>\n",
       "</div>"
      ],
      "text/plain": [
       "           text_id            text sentiment\n",
       "count        27481           27480     27481\n",
       "unique       27481           27476         3\n",
       "top     6f7127d9d7  Thx 4 sharing!   neutral\n",
       "freq             1               2     11118"
      ]
     },
     "execution_count": 14,
     "metadata": {},
     "output_type": "execute_result"
    }
   ],
   "source": [
    "df_generic.describe()"
   ]
  },
  {
   "cell_type": "code",
   "execution_count": 15,
   "metadata": {},
   "outputs": [
    {
     "name": "stdout",
     "output_type": "stream",
     "text": [
      "<class 'pandas.core.frame.DataFrame'>\n",
      "RangeIndex: 27481 entries, 0 to 27480\n",
      "Data columns (total 3 columns):\n",
      " #   Column     Non-Null Count  Dtype \n",
      "---  ------     --------------  ----- \n",
      " 0   text_id    27481 non-null  object\n",
      " 1   text       27480 non-null  object\n",
      " 2   sentiment  27481 non-null  object\n",
      "dtypes: object(3)\n",
      "memory usage: 644.2+ KB\n"
     ]
    }
   ],
   "source": [
    "df_generic.info()"
   ]
  },
  {
   "cell_type": "markdown",
   "metadata": {},
   "source": [
    "## [5] checking imbalanced data"
   ]
  },
  {
   "cell_type": "code",
   "execution_count": 16,
   "metadata": {},
   "outputs": [
    {
     "name": "stdout",
     "output_type": "stream",
     "text": [
      "sentiment\n",
      "POSITIVE    0.664713\n",
      "NEGATIVE    0.335287\n",
      "Name: proportion, dtype: float64\n"
     ]
    }
   ],
   "source": [
    "sent_distr_ED_1 = df_ED_sentiment_1['sentiment'].value_counts(normalize=True)\n",
    "print(sent_distr_ED_1)"
   ]
  },
  {
   "cell_type": "code",
   "execution_count": 17,
   "metadata": {},
   "outputs": [
    {
     "data": {
      "image/png": "[encoded data removed]",
      "text/plain": [
       "<Figure size 700x500 with 1 Axes>"
      ]
     },
     "metadata": {},
     "output_type": "display_data"
    }
   ],
   "source": [
    "plt.figure(figsize=(7, 5))\n",
    "sns.countplot(x='sentiment', data=df_ED_sentiment_1)\n",
    "plt.title('sentiment distribution')\n",
    "plt.show()"
   ]
  },
  {
   "cell_type": "code",
   "execution_count": 18,
   "metadata": {},
   "outputs": [
    {
     "name": "stdout",
     "output_type": "stream",
     "text": [
      "sentiment\n",
      "POSITIVE    0.655768\n",
      "NEGATIVE    0.344232\n",
      "Name: proportion, dtype: float64\n"
     ]
    }
   ],
   "source": [
    "sent_distr_ED_2 = df_ED_sentiment_2['sentiment'].value_counts(normalize=True)\n",
    "print(sent_distr_ED_2)"
   ]
  },
  {
   "cell_type": "code",
   "execution_count": 19,
   "metadata": {},
   "outputs": [
    {
     "data": {
      "image/png": "[encoded data removed]",
      "text/plain": [
       "<Figure size 700x500 with 1 Axes>"
      ]
     },
     "metadata": {},
     "output_type": "display_data"
    }
   ],
   "source": [
    "plt.figure(figsize=(7, 5))\n",
    "sns.countplot(x='sentiment', data=df_ED_sentiment_2)\n",
    "plt.title('sentiment distribution')\n",
    "plt.show()"
   ]
  },
  {
   "cell_type": "markdown",
   "metadata": {},
   "source": [
    "in this two dataframes we can see that our data isn't really imbalanced"
   ]
  },
  {
   "cell_type": "code",
   "execution_count": 20,
   "metadata": {},
   "outputs": [
    {
     "name": "stdout",
     "output_type": "stream",
     "text": [
      "sentiment\n",
      "positive    0.376887\n",
      "neutral     0.366320\n",
      "negative    0.256793\n",
      "Name: proportion, dtype: float64\n"
     ]
    }
   ],
   "source": [
    "sent_fifa = df_fifa['sentiment'].value_counts(normalize=True)\n",
    "print(sent_fifa)"
   ]
  },
  {
   "cell_type": "code",
   "execution_count": 21,
   "metadata": {},
   "outputs": [
    {
     "data": {
      "image/png": "[encoded data removed]",
      "text/plain": [
       "<Figure size 700x500 with 1 Axes>"
      ]
     },
     "metadata": {},
     "output_type": "display_data"
    }
   ],
   "source": [
    "plt.figure(figsize=(7, 5))\n",
    "sns.countplot(x='sentiment', data=df_fifa)\n",
    "plt.title('sentiment distribution')\n",
    "plt.show()"
   ]
  },
  {
   "cell_type": "code",
   "execution_count": 22,
   "metadata": {},
   "outputs": [
    {
     "name": "stdout",
     "output_type": "stream",
     "text": [
      "sentiment\n",
      "neutral     0.404570\n",
      "positive    0.312288\n",
      "negative    0.283141\n",
      "Name: proportion, dtype: float64\n"
     ]
    }
   ],
   "source": [
    "sent_generic = df_generic['sentiment'].value_counts(normalize=True)\n",
    "print(sent_generic)"
   ]
  },
  {
   "cell_type": "code",
   "execution_count": 23,
   "metadata": {},
   "outputs": [
    {
     "data": {
      "image/png": "[encoded data removed]",
      "text/plain": [
       "<Figure size 700x500 with 1 Axes>"
      ]
     },
     "metadata": {},
     "output_type": "display_data"
    }
   ],
   "source": [
    "plt.figure(figsize=(7, 5))\n",
    "sns.countplot(x='sentiment', data=df_generic)\n",
    "plt.title('sentiment distribution')\n",
    "plt.show()"
   ]
  },
  {
   "cell_type": "markdown",
   "metadata": {},
   "source": [
    "in this two other dataframes we definitely can't say that are imbalanced"
   ]
  },
  {
   "cell_type": "markdown",
   "metadata": {},
   "source": [
    "## [6] checking for missing data"
   ]
  },
  {
   "cell_type": "code",
   "execution_count": 24,
   "metadata": {},
   "outputs": [
    {
     "name": "stdout",
     "output_type": "stream",
     "text": [
      "Missing values for each column: \n",
      "text                0\n",
      "hash_tags       16387\n",
      "account_tags    11726\n",
      "sentiment           0\n",
      "emotion             0\n",
      "dtype: int64\n",
      "Total missing values: 28113\n",
      "percentage of missing hash_tags: 0.3277465549310986, \n",
      "percentage of account_tags: 0.2345246904938099\n"
     ]
    }
   ],
   "source": [
    "df_sentiment_1_miss = df_ED_sentiment_1.isnull().sum()\n",
    "df_1_tot_miss = df_sentiment_1_miss.sum()\n",
    "\n",
    "print(f'Missing values for each column: \\n{df_sentiment_1_miss}')\n",
    "print(f'Total missing values: {df_1_tot_miss}')\n",
    "#percentage of missing values for hash_tags and account_tags\n",
    "hash_tags_1_miss = df_sentiment_1_miss['hash_tags']/len(df_ED_sentiment_1)\n",
    "account_tags_1_miss = df_sentiment_1_miss['account_tags']/len(df_ED_sentiment_1)\n",
    "print(f'percentage of missing hash_tags: {hash_tags_1_miss}, \\npercentage of account_tags: {account_tags_1_miss}')"
   ]
  },
  {
   "cell_type": "code",
   "execution_count": 25,
   "metadata": {},
   "outputs": [
    {
     "name": "stdout",
     "output_type": "stream",
     "text": [
      "Missing values for each column: \n",
      "text                0\n",
      "hash_tags       20769\n",
      "account_tags    11421\n",
      "sentiment           0\n",
      "emotion             0\n",
      "dtype: int64\n",
      "Total missing values: 32190\n",
      "percentage of missing hash_tags: 0.4145508982035928, \n",
      "percentage of account_tags: 0.22796407185628742\n"
     ]
    }
   ],
   "source": [
    "df_sentiment_2_miss = df_ED_sentiment_2.isnull().sum()\n",
    "df_2_tot_miss = df_sentiment_2_miss.sum()\n",
    "\n",
    "print(f'Missing values for each column: \\n{df_sentiment_2_miss}')\n",
    "print(f'Total missing values: {df_2_tot_miss}')\n",
    "#percentage of missing values for hash_tags and account_tags\n",
    "hash_tags_2_miss = df_sentiment_2_miss['hash_tags']/len(df_ED_sentiment_2)\n",
    "account_tags_2_miss = df_sentiment_2_miss['account_tags']/len(df_ED_sentiment_2)\n",
    "print(f'percentage of missing hash_tags: {hash_tags_2_miss}, \\npercentage of account_tags: {account_tags_2_miss}')"
   ]
  },
  {
   "cell_type": "code",
   "execution_count": 26,
   "metadata": {},
   "outputs": [
    {
     "name": "stdout",
     "output_type": "stream",
     "text": [
      "Missing values for each column: \n",
      "date_created       0\n",
      "number_of_likes    0\n",
      "source_of_tweet    0\n",
      "tweet              0\n",
      "sentiment          0\n",
      "dtype: int64\n",
      "Total missing values: 0\n"
     ]
    }
   ],
   "source": [
    "df_fifa_miss = df_fifa.isnull().sum()\n",
    "df_fifa_tot_miss = df_fifa_miss.sum()\n",
    "\n",
    "print(f'Missing values for each column: \\n{df_fifa_miss}')\n",
    "print(f'Total missing values: {df_fifa_tot_miss}')"
   ]
  },
  {
   "cell_type": "code",
   "execution_count": 27,
   "metadata": {},
   "outputs": [
    {
     "name": "stdout",
     "output_type": "stream",
     "text": [
      "Missing values for each column: \n",
      "text_id      0\n",
      "text         1\n",
      "sentiment    0\n",
      "dtype: int64\n",
      "Total missing values: 1\n"
     ]
    }
   ],
   "source": [
    "df_generic_miss = df_generic.isnull().sum()\n",
    "df_generic_tot_miss = df_generic_miss.sum()\n",
    "\n",
    "print(f'Missing values for each column: \\n{df_generic_miss}')\n",
    "print(f'Total missing values: {df_generic_tot_miss}')"
   ]
  }
 ],
 "metadata": {
  "kernelspec": {
   "display_name": "Python 3",
   "language": "python",
   "name": "python3"
  },
  "language_info": {
   "codemirror_mode": {
    "name": "ipython",
    "version": 3
   },
   "file_extension": ".py",
   "mimetype": "text/x-python",
   "name": "python",
   "nbconvert_exporter": "python",
   "pygments_lexer": "ipython3",
   "version": "3.11.9"
  }
 },
 "nbformat": 4,
 "nbformat_minor": 2
}
